{
 "cells": [
  {
   "cell_type": "code",
   "execution_count": 1,
   "id": "f0b432f3",
   "metadata": {},
   "outputs": [
    {
     "name": "stdout",
     "output_type": "stream",
     "text": [
      "🦥 Unsloth: Will patch your computer to enable 2x faster free finetuning.\n",
      "🦥 Unsloth Zoo will now patch everything to make training faster!\n"
     ]
    }
   ],
   "source": [
    "from unsloth import FastModel\n",
    "import torch"
   ]
  },
  {
   "cell_type": "code",
   "execution_count": 2,
   "id": "e41af889",
   "metadata": {},
   "outputs": [
    {
     "name": "stdout",
     "output_type": "stream",
     "text": [
      "==((====))==  Unsloth 2025.7.4: Fast Qwen2 patching. Transformers: 4.53.2.\n",
      "   \\\\   /|    NVIDIA GeForce RTX 4060 Ti. Num GPUs = 1. Max memory: 15.996 GB. Platform: Linux.\n",
      "O^O/ \\_/ \\    Torch: 2.7.1+cu126. CUDA: 8.9. CUDA Toolkit: 12.6. Triton: 3.3.1\n",
      "\\        /    Bfloat16 = TRUE. FA [Xformers = 0.0.31.post1. FA2 = False]\n",
      " \"-____-\"     Free license: http://github.com/unslothai/unsloth\n",
      "Unsloth: Fast downloading is enabled - ignore downloading bars which are red colored!\n",
      "Unsloth: QLoRA and full finetuning all not selected. Switching to 16bit LoRA.\n"
     ]
    },
    {
     "data": {
      "text/plain": [
       "('spark-tts-merged/tokenizer_config.json',\n",
       " 'spark-tts-merged/special_tokens_map.json',\n",
       " 'spark-tts-merged/chat_template.jinja',\n",
       " 'spark-tts-merged/vocab.json',\n",
       " 'spark-tts-merged/merges.txt',\n",
       " 'spark-tts-merged/added_tokens.json',\n",
       " 'spark-tts-merged/tokenizer.json')"
      ]
     },
     "execution_count": 2,
     "metadata": {},
     "output_type": "execute_result"
    }
   ],
   "source": [
    "model, tokenizer = FastModel.from_pretrained(\n",
    "    model_name = f\"lora_model_rickey\",  # Spark-TTS基础模型\n",
    "    max_seq_length = 2048,\n",
    "    dtype = torch.float32,\n",
    "    load_in_4bit = False,  # 完整加载以合并\n",
    ")\n",
    "\n",
    "# model = FastModel.get_peft_model(\n",
    "#     base_model,\n",
    "#     r = 128,  # 与训练时一致\n",
    "#     target_modules = [\"q_proj\", \"k_proj\", \"v_proj\", \"o_proj\", \"gate_proj\", \"up_proj\", \"down_proj\",],  # 检查训练配置\n",
    "#     lora_alpha = 128,\n",
    "#     lora_dropout = 0,\n",
    "#     bias = \"none\",\n",
    "#     use_gradient_checkpointing = \"unsloth\",\n",
    "# )\n",
    "\n",
    "# model.load_adapter(\"lora_model_rickey\", adapter_name=\"lora_model_rickey\")\n",
    "\n",
    "# 合并并保存完整模型\n",
    "merged_model = model.merge_and_unload()\n",
    "merged_model.save_pretrained(\"spark-tts-merged\", safe_serialization=True)\n",
    "tokenizer.save_pretrained(\"spark-tts-merged\")"
   ]
  },
  {
   "cell_type": "code",
   "execution_count": null,
   "id": "07a9ff45",
   "metadata": {},
   "outputs": [],
   "source": []
  }
 ],
 "metadata": {
  "kernelspec": {
   "display_name": "Python 3 (ipykernel)",
   "language": "python",
   "name": "python3"
  },
  "language_info": {
   "codemirror_mode": {
    "name": "ipython",
    "version": 3
   },
   "file_extension": ".py",
   "mimetype": "text/x-python",
   "name": "python",
   "nbconvert_exporter": "python",
   "pygments_lexer": "ipython3",
   "version": "3.11.13"
  }
 },
 "nbformat": 4,
 "nbformat_minor": 5
}
